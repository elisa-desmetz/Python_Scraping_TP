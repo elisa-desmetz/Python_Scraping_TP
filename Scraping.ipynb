{
 "cells": [
  {
   "cell_type": "code",
   "execution_count": 109,
   "id": "outdoor-pizza",
   "metadata": {},
   "outputs": [],
   "source": [
    "import requests\n",
    "from bs4 import BeautifulSoup\n",
    "import pandas as pd"
   ]
  },
  {
   "cell_type": "code",
   "execution_count": 61,
   "id": "smart-prophet",
   "metadata": {},
   "outputs": [
    {
     "name": "stdout",
     "output_type": "stream",
     "text": [
      "b'<!DOCTYPE html>\\n<html class=\"client-nojs\" lang=\"fr\" dir=\"ltr\">\\n<head>\\n<meta charset=\"UTF-8\"/>\\n<title>Championnat de France de football 2019-2020 \\xe2\\x80\\x94 W'\n"
     ]
    }
   ],
   "source": [
    "url = 'https://fr.wikipedia.org/wiki/Championnat_de_France_de_football_2019-2020'\n",
    "\n",
    "request_text = requests.get(url)\n",
    "\n",
    "print(request_text.content[:150])"
   ]
  },
  {
   "cell_type": "code",
   "execution_count": 140,
   "id": "palestinian-flash",
   "metadata": {},
   "outputs": [],
   "source": [
    "soup = BeautifulSoup(request_text.content, 'html5lib')"
   ]
  },
  {
   "cell_type": "code",
   "execution_count": 19,
   "id": "egyptian-nomination",
   "metadata": {},
   "outputs": [
    {
     "data": {
      "text/plain": [
       "34"
      ]
     },
     "execution_count": 19,
     "metadata": {},
     "output_type": "execute_result"
    }
   ],
   "source": [
    "all_tables = soup.find_all('table')\n",
    "len(all_tables)"
   ]
  },
  {
   "cell_type": "code",
   "execution_count": 21,
   "id": "backed-feeling",
   "metadata": {
    "scrolled": true
   },
   "outputs": [
    {
     "data": {
      "text/plain": [
       "[<table><caption style=\"background:#99cc99;color:#000000;\">Généralités</caption><tbody><tr>\n",
       " <th scope=\"row\" style=\"width:10.5em;\">Sport</th>\n",
       " <td>\n",
       " <a href=\"/wiki/Football\" title=\"Football\">Football</a></td>\n",
       " </tr>\n",
       " \n",
       " \n",
       " \n",
       " \n",
       " <tr>\n",
       " <th scope=\"row\" style=\"width:10.5em;\">Organisateur(s)</th>\n",
       " <td>\n",
       " <a href=\"/wiki/Ligue_de_football_professionnel\" title=\"Ligue de football professionnel\">LFP</a></td>\n",
       " </tr>\n",
       " <tr>\n",
       " <th scope=\"row\" style=\"width:10.5em;\">Édition</th>\n",
       " <td>\n",
       " <abbr class=\"abbr\" title=\"Quatre-vingt-deuxième (huitante-deuxième / octante-deuxième)\">82<sup>e</sup></abbr></td>\n",
       " </tr>\n",
       " \n",
       " \n",
       " \n",
       " \n",
       " <tr>\n",
       " <th scope=\"row\" style=\"width:10.5em;\">Lieu(x)</th>\n",
       " <td>\n",
       " <span class=\"datasortkey\" data-sort-value=\"France\"><span class=\"flagicon\"><a class=\"image\" href=\"/wiki/Fichier:Flag_of_France.svg\" title=\"Drapeau de la France\"><img alt=\"Drapeau de la France\" class=\"noviewer thumbborder\" data-file-height=\"600\" data-file-width=\"900\" decoding=\"async\" height=\"13\" src=\"//upload.wikimedia.org/wikipedia/commons/thumb/c/c3/Flag_of_France.svg/20px-Flag_of_France.svg.png\" srcset=\"//upload.wikimedia.org/wikipedia/commons/thumb/c/c3/Flag_of_France.svg/30px-Flag_of_France.svg.png 1.5x, //upload.wikimedia.org/wikipedia/commons/thumb/c/c3/Flag_of_France.svg/40px-Flag_of_France.svg.png 2x\" width=\"20\"/></a> </span><a href=\"/wiki/France\" title=\"France\">France</a></span> et <br/><span class=\"datasortkey\" data-sort-value=\"Monaco\"><span class=\"flagicon\"><a class=\"image\" href=\"/wiki/Fichier:Flag_of_Monaco.svg\" title=\"Drapeau de Monaco\"><img alt=\"Drapeau de Monaco\" class=\"noviewer thumbborder\" data-file-height=\"800\" data-file-width=\"1000\" decoding=\"async\" height=\"16\" src=\"//upload.wikimedia.org/wikipedia/commons/thumb/e/ea/Flag_of_Monaco.svg/20px-Flag_of_Monaco.svg.png\" srcset=\"//upload.wikimedia.org/wikipedia/commons/thumb/e/ea/Flag_of_Monaco.svg/30px-Flag_of_Monaco.svg.png 1.5x, //upload.wikimedia.org/wikipedia/commons/thumb/e/ea/Flag_of_Monaco.svg/40px-Flag_of_Monaco.svg.png 2x\" width=\"20\"/></a> </span><a href=\"/wiki/Monaco\" title=\"Monaco\">Monaco</a></span></td>\n",
       " </tr>\n",
       " <tr>\n",
       " <th scope=\"row\" style=\"width:10.5em;\">Date</th>\n",
       " <td>\n",
       " Du <time class=\"nowrap date-lien\" data-sort-value=\"2019-08-09\" datetime=\"2019-08-09\"><a href=\"/wiki/9_ao%C3%BBt_en_sport\" title=\"9 août en sport\">9</a> <a class=\"mw-redirect\" href=\"/wiki/Ao%C3%BBt_2019_en_sport\" title=\"Août 2019 en sport\">août</a> <a href=\"/wiki/2019_en_football\" title=\"2019 en football\">2019</a></time><br/>au <time class=\"nowrap date-lien\" data-sort-value=\"2020-03-08\" datetime=\"2020-03-08\"><a href=\"/wiki/8_mars_en_sport\" title=\"8 mars en sport\">8 mars</a> <a href=\"/wiki/2020_en_football\" title=\"2020 en football\">2020</a></time> <small>(arrêt définitif)</small></td>\n",
       " </tr>\n",
       " \n",
       " <tr>\n",
       " <th scope=\"row\" style=\"width:10.5em;\">Participants</th>\n",
       " <td>\n",
       " 20 équipes</td>\n",
       " </tr>\n",
       " \n",
       " \n",
       " \n",
       " <tr>\n",
       " <th scope=\"row\" style=\"width:10.5em;\">Matchs joués</th>\n",
       " <td>\n",
       " 279 (sur 380 prévus)</td>\n",
       " </tr>\n",
       " \n",
       " \n",
       " \n",
       " \n",
       " \n",
       " \n",
       " \n",
       " \n",
       " <tr>\n",
       " <th scope=\"row\" style=\"width:10.5em;\">Site web officiel</th>\n",
       " <td>\n",
       " <a class=\"external text\" href=\"https://www.ligue1.fr/\" rel=\"nofollow\">Site officiel</a></td>\n",
       " </tr></tbody></table>,\n",
       " <table><caption style=\"background:#99cc99;color:#000000;\">Hiérarchie</caption><tbody><tr>\n",
       " <th scope=\"row\" style=\"width:10.5em;\">Hiérarchie</th>\n",
       " <td>\n",
       " <abbr class=\"abbr\" title=\"Premier\">1<sup>er</sup></abbr> échelon</td>\n",
       " </tr>\n",
       " \n",
       " <tr>\n",
       " <th scope=\"row\" style=\"width:10.5em;\">Niveau inférieur</th>\n",
       " <td>\n",
       " <a class=\"mw-redirect\" href=\"/wiki/Championnat_de_France_de_football_de_Ligue_2_2019-2020\" title=\"Championnat de France de football de Ligue 2 2019-2020\">Ligue 2 2019-2020</a></td>\n",
       " </tr></tbody></table>]"
      ]
     },
     "execution_count": 21,
     "metadata": {},
     "output_type": "execute_result"
    }
   ],
   "source": [
    "all_tables[:2]"
   ]
  },
  {
   "cell_type": "code",
   "execution_count": 126,
   "id": "hollywood-liechtenstein",
   "metadata": {},
   "outputs": [
    {
     "name": "stdout",
     "output_type": "stream",
     "text": [
      "<a class=\"image\" href=\"/wiki/Fichier:France_location_map-Regions-2016.svg\"><img alt=\"France location map-Regions-2016.svg\" data-file-height=\"1922\" data-file-width=\"2000\" decoding=\"async\" height=\"288\" src=\"//upload.wikimedia.org/wikipedia/commons/thumb/b/b1/France_location_map-Regions-2016.svg/300px-France_location_map-Regions-2016.svg.png\" srcset=\"//upload.wikimedia.org/wikipedia/commons/thumb/b/b1/France_location_map-Regions-2016.svg/450px-France_location_map-Regions-2016.svg.png 1.5x, //upload.wikimedia.org/wikipedia/commons/thumb/b/b1/France_location_map-Regions-2016.svg/600px-France_location_map-Regions-2016.svg.png 2x\" width=\"300\"/></a>\n",
      "-----\n",
      "<a href=\"/wiki/Paris_Saint-Germain_Football_Club\" title=\"Paris Saint-Germain Football Club\">Paris SG</a>\n",
      "-----\n",
      "<a href=\"/wiki/LOSC_Lille\" title=\"LOSC Lille\">LOSC Lille</a>\n",
      "-----\n",
      "<a href=\"/wiki/Olympique_lyonnais\" title=\"Olympique lyonnais\">Olympique lyonnais</a>\n",
      "-----\n",
      "<a href=\"/wiki/Association_sportive_de_Saint-%C3%89tienne\" title=\"Association sportive de Saint-Étienne\">AS Saint-Étienne</a>\n",
      "-----\n"
     ]
    }
   ],
   "source": [
    "links_in_table = soup.find('table', \"DebutCarte\").find_all('a', limit=5)\n",
    "for x in links_in_table :\n",
    "    print (x)\n",
    "    print ('-----')"
   ]
  },
  {
   "cell_type": "code",
   "execution_count": 127,
   "id": "behind-blair",
   "metadata": {
    "scrolled": true
   },
   "outputs": [
    {
     "name": "stdout",
     "output_type": "stream",
     "text": [
      "<a href=\"/wiki/Paris_Saint-Germain_Football_Club\" title=\"Paris Saint-Germain Football Club\">Paris SG</a>\n",
      "<a href=\"/wiki/LOSC_Lille\" title=\"LOSC Lille\">LOSC Lille</a>\n",
      "<a href=\"/wiki/Olympique_lyonnais\" title=\"Olympique lyonnais\">Olympique lyonnais</a>\n",
      "<a href=\"/wiki/Association_sportive_de_Saint-%C3%89tienne\" title=\"Association sportive de Saint-Étienne\">AS Saint-Étienne</a>\n"
     ]
    }
   ],
   "source": [
    "for x in links_in_table :\n",
    "    if x.find('img'):\n",
    "        continue\n",
    "    else :\n",
    "        print (x)"
   ]
  },
  {
   "cell_type": "code",
   "execution_count": 128,
   "id": "bound-balloon",
   "metadata": {},
   "outputs": [
    {
     "name": "stdout",
     "output_type": "stream",
     "text": [
      "Club \n",
      "\n",
      "Paris SG\n",
      "LOSC Lille\n",
      "Olympique lyonnais\n",
      "AS Saint-Étienne\n",
      "\n",
      "------ \n",
      "URL \n",
      "\n",
      "/wiki/Paris_Saint-Germain_Football_Club\n",
      "/wiki/LOSC_Lille\n",
      "/wiki/Olympique_lyonnais\n",
      "/wiki/Association_sportive_de_Saint-%C3%89tienne\n"
     ]
    }
   ],
   "source": [
    "print (\"Club \\n\")\n",
    "for x in links_in_table :\n",
    "    if x.find('img'):\n",
    "        continue\n",
    "    else :\n",
    "        print (x.get_text())\n",
    "\n",
    "print(\"\\n------ \\n\"+\"URL \\n\")        \n",
    "        \n",
    "for x in links_in_table :\n",
    "    if x.find('img'):\n",
    "        continue\n",
    "    else :\n",
    "        print (x.get('href'))"
   ]
  },
  {
   "cell_type": "code",
   "execution_count": 129,
   "id": "blind-personal",
   "metadata": {
    "scrolled": true
   },
   "outputs": [
    {
     "data": {
      "text/html": [
       "<div>\n",
       "<style scoped>\n",
       "    .dataframe tbody tr th:only-of-type {\n",
       "        vertical-align: middle;\n",
       "    }\n",
       "\n",
       "    .dataframe tbody tr th {\n",
       "        vertical-align: top;\n",
       "    }\n",
       "\n",
       "    .dataframe thead th {\n",
       "        text-align: right;\n",
       "    }\n",
       "</style>\n",
       "<table border=\"1\" class=\"dataframe\">\n",
       "  <thead>\n",
       "    <tr style=\"text-align: right;\">\n",
       "      <th></th>\n",
       "      <th>Club</th>\n",
       "      <th>URL</th>\n",
       "    </tr>\n",
       "  </thead>\n",
       "  <tbody>\n",
       "    <tr>\n",
       "      <th>0</th>\n",
       "      <td>Paris SG</td>\n",
       "      <td>/wiki/Paris_Saint-Germain_Football_Club</td>\n",
       "    </tr>\n",
       "    <tr>\n",
       "      <th>1</th>\n",
       "      <td>LOSC Lille</td>\n",
       "      <td>/wiki/LOSC_Lille</td>\n",
       "    </tr>\n",
       "    <tr>\n",
       "      <th>2</th>\n",
       "      <td>Olympique lyonnais</td>\n",
       "      <td>/wiki/Olympique_lyonnais</td>\n",
       "    </tr>\n",
       "    <tr>\n",
       "      <th>3</th>\n",
       "      <td>AS Saint-Étienne</td>\n",
       "      <td>/wiki/Association_sportive_de_Saint-%C3%89tienne</td>\n",
       "    </tr>\n",
       "  </tbody>\n",
       "</table>\n",
       "</div>"
      ],
      "text/plain": [
       "                 Club                                               URL\n",
       "0            Paris SG           /wiki/Paris_Saint-Germain_Football_Club\n",
       "1          LOSC Lille                                  /wiki/LOSC_Lille\n",
       "2  Olympique lyonnais                          /wiki/Olympique_lyonnais\n",
       "3    AS Saint-Étienne  /wiki/Association_sportive_de_Saint-%C3%89tienne"
      ]
     },
     "execution_count": 129,
     "metadata": {},
     "output_type": "execute_result"
    }
   ],
   "source": [
    "df = pd.DataFrame(columns=['Club','URL'])\n",
    "\n",
    "for i in links_in_table:\n",
    "    if i.find('img'):\n",
    "        continue\n",
    "    else :\n",
    "        df = df.append({'Club': i.getText(),'URL' : i.get('href')}, ignore_index=True)\n",
    "\n",
    "\n",
    "df"
   ]
  },
  {
   "cell_type": "code",
   "execution_count": 131,
   "id": "australian-simulation",
   "metadata": {
    "scrolled": true
   },
   "outputs": [
    {
     "data": {
      "text/html": [
       "<div>\n",
       "<style scoped>\n",
       "    .dataframe tbody tr th:only-of-type {\n",
       "        vertical-align: middle;\n",
       "    }\n",
       "\n",
       "    .dataframe tbody tr th {\n",
       "        vertical-align: top;\n",
       "    }\n",
       "\n",
       "    .dataframe thead th {\n",
       "        text-align: right;\n",
       "    }\n",
       "</style>\n",
       "<table border=\"1\" class=\"dataframe\">\n",
       "  <thead>\n",
       "    <tr style=\"text-align: right;\">\n",
       "      <th></th>\n",
       "      <th>Club</th>\n",
       "      <th>URL</th>\n",
       "    </tr>\n",
       "  </thead>\n",
       "  <tbody>\n",
       "    <tr>\n",
       "      <th>0</th>\n",
       "      <td>Paris SG</td>\n",
       "      <td>/wiki/Paris_Saint-Germain_Football_Club</td>\n",
       "    </tr>\n",
       "    <tr>\n",
       "      <th>1</th>\n",
       "      <td>LOSC Lille</td>\n",
       "      <td>/wiki/LOSC_Lille</td>\n",
       "    </tr>\n",
       "    <tr>\n",
       "      <th>2</th>\n",
       "      <td>Olympique lyonnais</td>\n",
       "      <td>/wiki/Olympique_lyonnais</td>\n",
       "    </tr>\n",
       "    <tr>\n",
       "      <th>3</th>\n",
       "      <td>AS Saint-Étienne</td>\n",
       "      <td>/wiki/Association_sportive_de_Saint-%C3%89tienne</td>\n",
       "    </tr>\n",
       "    <tr>\n",
       "      <th>4</th>\n",
       "      <td>Olympique deMarseille</td>\n",
       "      <td>/wiki/Olympique_de_Marseille</td>\n",
       "    </tr>\n",
       "  </tbody>\n",
       "</table>\n",
       "</div>"
      ],
      "text/plain": [
       "                    Club                                               URL\n",
       "0               Paris SG           /wiki/Paris_Saint-Germain_Football_Club\n",
       "1             LOSC Lille                                  /wiki/LOSC_Lille\n",
       "2     Olympique lyonnais                          /wiki/Olympique_lyonnais\n",
       "3       AS Saint-Étienne  /wiki/Association_sportive_de_Saint-%C3%89tienne\n",
       "4  Olympique deMarseille                      /wiki/Olympique_de_Marseille"
      ]
     },
     "execution_count": 131,
     "metadata": {},
     "output_type": "execute_result"
    }
   ],
   "source": [
    "links_in_table = soup.find('table', \"DebutCarte\").find_all('a')\n",
    "\n",
    "complete_df = pd.DataFrame(columns=['Club','URL'])\n",
    "\n",
    "for i in links_in_table:\n",
    "    if i.find('img'):\n",
    "        continue\n",
    "    else :\n",
    "        complete_df = complete_df.append({'Club': i.getText(),'URL' : i.get('href')}, ignore_index=True)\n",
    "        \n",
    "complete_df.head()"
   ]
  },
  {
   "cell_type": "code",
   "execution_count": 139,
   "id": "fitting-friendship",
   "metadata": {},
   "outputs": [
    {
     "name": "stderr",
     "output_type": "stream",
     "text": [
      "<ipython-input-139-8a43df19d67d>:2: FutureWarning: As the xlwt package is no longer maintained, the xlwt engine will be removed in a future version of pandas. This is the only engine in pandas that supports writing in the xls format. Install openpyxl and write to an xlsx file instead. You can set the option io.excel.xls.writer to 'xlwt' to silence this warning. While this option is deprecated and will also raise a warning, it can be globally set and the warning suppressed.\n",
      "  complete_df.to_excel('ClubsLigue1.xls')\n"
     ]
    }
   ],
   "source": [
    "complete_df.to_csv('ClubsLigue1.csv')\n",
    "complete_df.to_excel('ClubsLigue1.xls')"
   ]
  }
 ],
 "metadata": {
  "kernelspec": {
   "display_name": "Python 3",
   "language": "python",
   "name": "python3"
  },
  "language_info": {
   "codemirror_mode": {
    "name": "ipython",
    "version": 3
   },
   "file_extension": ".py",
   "mimetype": "text/x-python",
   "name": "python",
   "nbconvert_exporter": "python",
   "pygments_lexer": "ipython3",
   "version": "3.8.0"
  }
 },
 "nbformat": 4,
 "nbformat_minor": 5
}
